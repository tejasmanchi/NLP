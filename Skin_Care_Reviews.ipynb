{
  "nbformat": 4,
  "nbformat_minor": 0,
  "metadata": {
    "colab": {
      "provenance": [],
      "gpuType": "T4",
      "authorship_tag": "ABX9TyMhMSKxwy6KFAdP4YJGsodL",
      "include_colab_link": true
    },
    "kernelspec": {
      "name": "python3",
      "display_name": "Python 3"
    },
    "language_info": {
      "name": "python"
    },
    "accelerator": "GPU",
    "gpuClass": "standard"
  },
  "cells": [
    {
      "cell_type": "markdown",
      "metadata": {
        "id": "view-in-github",
        "colab_type": "text"
      },
      "source": [
        "<a href=\"https://colab.research.google.com/github/tejasmanchi/NLP/blob/main/Skin_Care_Reviews.ipynb\" target=\"_parent\"><img src=\"https://colab.research.google.com/assets/colab-badge.svg\" alt=\"Open In Colab\"/></a>"
      ]
    },
    {
      "cell_type": "markdown",
      "source": [
        "#Importing Libraries"
      ],
      "metadata": {
        "id": "rf-FladOLo7S"
      }
    },
    {
      "cell_type": "code",
      "execution_count": 1,
      "metadata": {
        "colab": {
          "base_uri": "https://localhost:8080/"
        },
        "id": "4sDj3_FFccrb",
        "outputId": "b2a7c1d4-3f61-41ad-ca95-6edd6a33de4e"
      },
      "outputs": [
        {
          "output_type": "stream",
          "name": "stderr",
          "text": [
            "[nltk_data] Downloading package stopwords to /root/nltk_data...\n",
            "[nltk_data]   Unzipping corpora/stopwords.zip.\n",
            "[nltk_data] Downloading package punkt to /root/nltk_data...\n",
            "[nltk_data]   Unzipping tokenizers/punkt.zip.\n"
          ]
        }
      ],
      "source": [
        "import matplotlib.pyplot as plt\n",
        "import numpy as np\n",
        "import pandas as pd\n",
        "from sklearn.model_selection import train_test_split\n",
        "from sklearn.feature_extraction.text import CountVectorizer\n",
        "from sklearn.naive_bayes import MultinomialNB\n",
        "from sklearn.metrics import classification_report\n",
        "import re\n",
        "import nltk\n",
        "from nltk.corpus import stopwords\n",
        "nltk.download('stopwords')\n",
        "nltk.download('punkt')\n",
        "from nltk import word_tokenize\n",
        "from nltk.stem import PorterStemmer"
      ]
    },
    {
      "cell_type": "markdown",
      "source": [
        "#Importing Data"
      ],
      "metadata": {
        "id": "OiXAn222L9YB"
      }
    },
    {
      "cell_type": "code",
      "source": [
        "from google.colab import drive\n",
        "drive.mount('/content/drive')"
      ],
      "metadata": {
        "colab": {
          "base_uri": "https://localhost:8080/"
        },
        "id": "TPLmysMzqMk8",
        "outputId": "abd3272a-d786-4832-9318-1c413d1e6391"
      },
      "execution_count": 3,
      "outputs": [
        {
          "output_type": "stream",
          "name": "stdout",
          "text": [
            "Mounted at /content/drive\n"
          ]
        }
      ]
    },
    {
      "cell_type": "code",
      "source": [
        "df=pd.read_csv('/content/drive/MyDrive/DS/Ulta Skincare Reviews.csv')"
      ],
      "metadata": {
        "id": "yuTHJ9cfdZkb"
      },
      "execution_count": 41,
      "outputs": []
    },
    {
      "cell_type": "code",
      "source": [
        "df.dropna()"
      ],
      "metadata": {
        "colab": {
          "base_uri": "https://localhost:8080/",
          "height": 797
        },
        "id": "UM1gI0TEv8oN",
        "outputId": "5056476c-9823-4634-ba0d-9a5893cf0a71"
      },
      "execution_count": 42,
      "outputs": [
        {
          "output_type": "execute_result",
          "data": {
            "text/plain": [
              "                                           Review_Title  \\\n",
              "0                                               Perfect   \n",
              "1                                         You need this   \n",
              "2                                            Clean skin   \n",
              "3                                      Love This Stuff!   \n",
              "4                       This exfoliates very nicely and   \n",
              "...                                                 ...   \n",
              "4145                     I would buy this product again   \n",
              "4146        Gentle exfoliant- leaves skin smooth & soft   \n",
              "4147  One of my favorite skincare products of all time.   \n",
              "4148                                            Ehhh...   \n",
              "4149                                This is the best!!!   \n",
              "\n",
              "                                            Review_Text Verified_Buyer  \\\n",
              "0     Love using this on my face while in the shower...             No   \n",
              "1     Even better than the daily microfoliant. I'm o...             No   \n",
              "2     Enjoy this product so much ! I look forward to...             No   \n",
              "3     I've never tried anything like this before and...             No   \n",
              "4     This exfoliates very nicely and gives a very s...             No   \n",
              "...                                                 ...            ...   \n",
              "4145                  Much better product than a scrub.            Yes   \n",
              "4146  I've been using this exfoliant for a few month...             No   \n",
              "4147        My skin looks better now than 10 years ago.            Yes   \n",
              "4148  This product was useless for me. I should've k...            Yes   \n",
              "4149  This product is amazing! It is the only thing ...            Yes   \n",
              "\n",
              "       Review_Date   Review_Location  Review_Upvotes  Review_Downvotes  \\\n",
              "0      15 days ago       Undisclosed               0                 0   \n",
              "1      27 days ago       Undisclosed               0                 0   \n",
              "2     2 months ago       Undisclosed               0                 0   \n",
              "3     2 months ago       Undisclosed               0                 0   \n",
              "4     2 months ago       Undisclosed               0                 0   \n",
              "...            ...               ...             ...               ...   \n",
              "4145   7 years ago  vernon hills, il               0                 1   \n",
              "4146   7 years ago      Humboldt, CA               1                 0   \n",
              "4147   7 years ago   Albuquerque, NM               2                 1   \n",
              "4148   7 years ago      Fayetteville               1                 1   \n",
              "4149   7 years ago       Mississippi               1                 1   \n",
              "\n",
              "                          Product        Brand Scrape_Date  \n",
              "0     Multi-Vitamin Thermafoliant  Dermalogica     3/27/23  \n",
              "1     Multi-Vitamin Thermafoliant  Dermalogica     3/27/23  \n",
              "2     Multi-Vitamin Thermafoliant  Dermalogica     3/27/23  \n",
              "3     Multi-Vitamin Thermafoliant  Dermalogica     3/27/23  \n",
              "4     Multi-Vitamin Thermafoliant  Dermalogica     3/27/23  \n",
              "...                           ...          ...         ...  \n",
              "4145           Daily Microfoliant  Dermalogica     3/27/23  \n",
              "4146           Daily Microfoliant  Dermalogica     3/27/23  \n",
              "4147           Daily Microfoliant  Dermalogica     3/27/23  \n",
              "4148           Daily Microfoliant  Dermalogica     3/27/23  \n",
              "4149           Daily Microfoliant  Dermalogica     3/27/23  \n",
              "\n",
              "[4147 rows x 10 columns]"
            ],
            "text/html": [
              "\n",
              "  <div id=\"df-b5afda95-6e72-47c2-b97f-4ea7e2f46c32\">\n",
              "    <div class=\"colab-df-container\">\n",
              "      <div>\n",
              "<style scoped>\n",
              "    .dataframe tbody tr th:only-of-type {\n",
              "        vertical-align: middle;\n",
              "    }\n",
              "\n",
              "    .dataframe tbody tr th {\n",
              "        vertical-align: top;\n",
              "    }\n",
              "\n",
              "    .dataframe thead th {\n",
              "        text-align: right;\n",
              "    }\n",
              "</style>\n",
              "<table border=\"1\" class=\"dataframe\">\n",
              "  <thead>\n",
              "    <tr style=\"text-align: right;\">\n",
              "      <th></th>\n",
              "      <th>Review_Title</th>\n",
              "      <th>Review_Text</th>\n",
              "      <th>Verified_Buyer</th>\n",
              "      <th>Review_Date</th>\n",
              "      <th>Review_Location</th>\n",
              "      <th>Review_Upvotes</th>\n",
              "      <th>Review_Downvotes</th>\n",
              "      <th>Product</th>\n",
              "      <th>Brand</th>\n",
              "      <th>Scrape_Date</th>\n",
              "    </tr>\n",
              "  </thead>\n",
              "  <tbody>\n",
              "    <tr>\n",
              "      <th>0</th>\n",
              "      <td>Perfect</td>\n",
              "      <td>Love using this on my face while in the shower...</td>\n",
              "      <td>No</td>\n",
              "      <td>15 days ago</td>\n",
              "      <td>Undisclosed</td>\n",
              "      <td>0</td>\n",
              "      <td>0</td>\n",
              "      <td>Multi-Vitamin Thermafoliant</td>\n",
              "      <td>Dermalogica</td>\n",
              "      <td>3/27/23</td>\n",
              "    </tr>\n",
              "    <tr>\n",
              "      <th>1</th>\n",
              "      <td>You need this</td>\n",
              "      <td>Even better than the daily microfoliant. I'm o...</td>\n",
              "      <td>No</td>\n",
              "      <td>27 days ago</td>\n",
              "      <td>Undisclosed</td>\n",
              "      <td>0</td>\n",
              "      <td>0</td>\n",
              "      <td>Multi-Vitamin Thermafoliant</td>\n",
              "      <td>Dermalogica</td>\n",
              "      <td>3/27/23</td>\n",
              "    </tr>\n",
              "    <tr>\n",
              "      <th>2</th>\n",
              "      <td>Clean skin</td>\n",
              "      <td>Enjoy this product so much ! I look forward to...</td>\n",
              "      <td>No</td>\n",
              "      <td>2 months ago</td>\n",
              "      <td>Undisclosed</td>\n",
              "      <td>0</td>\n",
              "      <td>0</td>\n",
              "      <td>Multi-Vitamin Thermafoliant</td>\n",
              "      <td>Dermalogica</td>\n",
              "      <td>3/27/23</td>\n",
              "    </tr>\n",
              "    <tr>\n",
              "      <th>3</th>\n",
              "      <td>Love This Stuff!</td>\n",
              "      <td>I've never tried anything like this before and...</td>\n",
              "      <td>No</td>\n",
              "      <td>2 months ago</td>\n",
              "      <td>Undisclosed</td>\n",
              "      <td>0</td>\n",
              "      <td>0</td>\n",
              "      <td>Multi-Vitamin Thermafoliant</td>\n",
              "      <td>Dermalogica</td>\n",
              "      <td>3/27/23</td>\n",
              "    </tr>\n",
              "    <tr>\n",
              "      <th>4</th>\n",
              "      <td>This exfoliates very nicely and</td>\n",
              "      <td>This exfoliates very nicely and gives a very s...</td>\n",
              "      <td>No</td>\n",
              "      <td>2 months ago</td>\n",
              "      <td>Undisclosed</td>\n",
              "      <td>0</td>\n",
              "      <td>0</td>\n",
              "      <td>Multi-Vitamin Thermafoliant</td>\n",
              "      <td>Dermalogica</td>\n",
              "      <td>3/27/23</td>\n",
              "    </tr>\n",
              "    <tr>\n",
              "      <th>...</th>\n",
              "      <td>...</td>\n",
              "      <td>...</td>\n",
              "      <td>...</td>\n",
              "      <td>...</td>\n",
              "      <td>...</td>\n",
              "      <td>...</td>\n",
              "      <td>...</td>\n",
              "      <td>...</td>\n",
              "      <td>...</td>\n",
              "      <td>...</td>\n",
              "    </tr>\n",
              "    <tr>\n",
              "      <th>4145</th>\n",
              "      <td>I would buy this product again</td>\n",
              "      <td>Much better product than a scrub.</td>\n",
              "      <td>Yes</td>\n",
              "      <td>7 years ago</td>\n",
              "      <td>vernon hills, il</td>\n",
              "      <td>0</td>\n",
              "      <td>1</td>\n",
              "      <td>Daily Microfoliant</td>\n",
              "      <td>Dermalogica</td>\n",
              "      <td>3/27/23</td>\n",
              "    </tr>\n",
              "    <tr>\n",
              "      <th>4146</th>\n",
              "      <td>Gentle exfoliant- leaves skin smooth &amp; soft</td>\n",
              "      <td>I've been using this exfoliant for a few month...</td>\n",
              "      <td>No</td>\n",
              "      <td>7 years ago</td>\n",
              "      <td>Humboldt, CA</td>\n",
              "      <td>1</td>\n",
              "      <td>0</td>\n",
              "      <td>Daily Microfoliant</td>\n",
              "      <td>Dermalogica</td>\n",
              "      <td>3/27/23</td>\n",
              "    </tr>\n",
              "    <tr>\n",
              "      <th>4147</th>\n",
              "      <td>One of my favorite skincare products of all time.</td>\n",
              "      <td>My skin looks better now than 10 years ago.</td>\n",
              "      <td>Yes</td>\n",
              "      <td>7 years ago</td>\n",
              "      <td>Albuquerque, NM</td>\n",
              "      <td>2</td>\n",
              "      <td>1</td>\n",
              "      <td>Daily Microfoliant</td>\n",
              "      <td>Dermalogica</td>\n",
              "      <td>3/27/23</td>\n",
              "    </tr>\n",
              "    <tr>\n",
              "      <th>4148</th>\n",
              "      <td>Ehhh...</td>\n",
              "      <td>This product was useless for me. I should've k...</td>\n",
              "      <td>Yes</td>\n",
              "      <td>7 years ago</td>\n",
              "      <td>Fayetteville</td>\n",
              "      <td>1</td>\n",
              "      <td>1</td>\n",
              "      <td>Daily Microfoliant</td>\n",
              "      <td>Dermalogica</td>\n",
              "      <td>3/27/23</td>\n",
              "    </tr>\n",
              "    <tr>\n",
              "      <th>4149</th>\n",
              "      <td>This is the best!!!</td>\n",
              "      <td>This product is amazing! It is the only thing ...</td>\n",
              "      <td>Yes</td>\n",
              "      <td>7 years ago</td>\n",
              "      <td>Mississippi</td>\n",
              "      <td>1</td>\n",
              "      <td>1</td>\n",
              "      <td>Daily Microfoliant</td>\n",
              "      <td>Dermalogica</td>\n",
              "      <td>3/27/23</td>\n",
              "    </tr>\n",
              "  </tbody>\n",
              "</table>\n",
              "<p>4147 rows × 10 columns</p>\n",
              "</div>\n",
              "      <button class=\"colab-df-convert\" onclick=\"convertToInteractive('df-b5afda95-6e72-47c2-b97f-4ea7e2f46c32')\"\n",
              "              title=\"Convert this dataframe to an interactive table.\"\n",
              "              style=\"display:none;\">\n",
              "        \n",
              "  <svg xmlns=\"http://www.w3.org/2000/svg\" height=\"24px\"viewBox=\"0 0 24 24\"\n",
              "       width=\"24px\">\n",
              "    <path d=\"M0 0h24v24H0V0z\" fill=\"none\"/>\n",
              "    <path d=\"M18.56 5.44l.94 2.06.94-2.06 2.06-.94-2.06-.94-.94-2.06-.94 2.06-2.06.94zm-11 1L8.5 8.5l.94-2.06 2.06-.94-2.06-.94L8.5 2.5l-.94 2.06-2.06.94zm10 10l.94 2.06.94-2.06 2.06-.94-2.06-.94-.94-2.06-.94 2.06-2.06.94z\"/><path d=\"M17.41 7.96l-1.37-1.37c-.4-.4-.92-.59-1.43-.59-.52 0-1.04.2-1.43.59L10.3 9.45l-7.72 7.72c-.78.78-.78 2.05 0 2.83L4 21.41c.39.39.9.59 1.41.59.51 0 1.02-.2 1.41-.59l7.78-7.78 2.81-2.81c.8-.78.8-2.07 0-2.86zM5.41 20L4 18.59l7.72-7.72 1.47 1.35L5.41 20z\"/>\n",
              "  </svg>\n",
              "      </button>\n",
              "      \n",
              "  <style>\n",
              "    .colab-df-container {\n",
              "      display:flex;\n",
              "      flex-wrap:wrap;\n",
              "      gap: 12px;\n",
              "    }\n",
              "\n",
              "    .colab-df-convert {\n",
              "      background-color: #E8F0FE;\n",
              "      border: none;\n",
              "      border-radius: 50%;\n",
              "      cursor: pointer;\n",
              "      display: none;\n",
              "      fill: #1967D2;\n",
              "      height: 32px;\n",
              "      padding: 0 0 0 0;\n",
              "      width: 32px;\n",
              "    }\n",
              "\n",
              "    .colab-df-convert:hover {\n",
              "      background-color: #E2EBFA;\n",
              "      box-shadow: 0px 1px 2px rgba(60, 64, 67, 0.3), 0px 1px 3px 1px rgba(60, 64, 67, 0.15);\n",
              "      fill: #174EA6;\n",
              "    }\n",
              "\n",
              "    [theme=dark] .colab-df-convert {\n",
              "      background-color: #3B4455;\n",
              "      fill: #D2E3FC;\n",
              "    }\n",
              "\n",
              "    [theme=dark] .colab-df-convert:hover {\n",
              "      background-color: #434B5C;\n",
              "      box-shadow: 0px 1px 3px 1px rgba(0, 0, 0, 0.15);\n",
              "      filter: drop-shadow(0px 1px 2px rgba(0, 0, 0, 0.3));\n",
              "      fill: #FFFFFF;\n",
              "    }\n",
              "  </style>\n",
              "\n",
              "      <script>\n",
              "        const buttonEl =\n",
              "          document.querySelector('#df-b5afda95-6e72-47c2-b97f-4ea7e2f46c32 button.colab-df-convert');\n",
              "        buttonEl.style.display =\n",
              "          google.colab.kernel.accessAllowed ? 'block' : 'none';\n",
              "\n",
              "        async function convertToInteractive(key) {\n",
              "          const element = document.querySelector('#df-b5afda95-6e72-47c2-b97f-4ea7e2f46c32');\n",
              "          const dataTable =\n",
              "            await google.colab.kernel.invokeFunction('convertToInteractive',\n",
              "                                                     [key], {});\n",
              "          if (!dataTable) return;\n",
              "\n",
              "          const docLinkHtml = 'Like what you see? Visit the ' +\n",
              "            '<a target=\"_blank\" href=https://colab.research.google.com/notebooks/data_table.ipynb>data table notebook</a>'\n",
              "            + ' to learn more about interactive tables.';\n",
              "          element.innerHTML = '';\n",
              "          dataTable['output_type'] = 'display_data';\n",
              "          await google.colab.output.renderOutput(dataTable, element);\n",
              "          const docLink = document.createElement('div');\n",
              "          docLink.innerHTML = docLinkHtml;\n",
              "          element.appendChild(docLink);\n",
              "        }\n",
              "      </script>\n",
              "    </div>\n",
              "  </div>\n",
              "  "
            ]
          },
          "metadata": {},
          "execution_count": 42
        }
      ]
    },
    {
      "cell_type": "markdown",
      "source": [
        "#Preprocessing"
      ],
      "metadata": {
        "id": "yJxCU-3rL215"
      }
    },
    {
      "cell_type": "code",
      "source": [
        "df['Review_Text'] = df['Review_Text'].astype(str)\n",
        "df['Review_Text'] = df['Review_Text'].apply(lambda x: x.lower())\n",
        "df['Review_Text'] = df['Review_Text'].apply(lambda x: re.sub('[^a-zA-Z0-9]',' ',x))\n",
        "df['Review_Text'] = df['Review_Text'].apply(lambda x: word_tokenize(x))\n",
        "df['Review_Text']"
      ],
      "metadata": {
        "colab": {
          "base_uri": "https://localhost:8080/"
        },
        "id": "MwoQ4J51tlN7",
        "outputId": "888e6ed1-ebe3-4e07-d2e6-bea4f95078a8"
      },
      "execution_count": 43,
      "outputs": [
        {
          "output_type": "execute_result",
          "data": {
            "text/plain": [
              "0       [love, using, this, on, my, face, while, in, t...\n",
              "1       [even, better, than, the, daily, microfoliant,...\n",
              "2       [enjoy, this, product, so, much, i, look, forw...\n",
              "3       [i, ve, never, tried, anything, like, this, be...\n",
              "4       [this, exfoliates, very, nicely, and, gives, a...\n",
              "                              ...                        \n",
              "4145              [much, better, product, than, a, scrub]\n",
              "4146    [i, ve, been, using, this, exfoliant, for, a, ...\n",
              "4147    [my, skin, looks, better, now, than, 10, years...\n",
              "4148    [this, product, was, useless, for, me, i, shou...\n",
              "4149    [this, product, is, amazing, it, is, the, only...\n",
              "Name: Review_Text, Length: 4150, dtype: object"
            ]
          },
          "metadata": {},
          "execution_count": 43
        }
      ]
    },
    {
      "cell_type": "code",
      "source": [
        "df['Review_Text'] = df['Review_Text'].apply(lambda x: [word for word in x if word not in stopwords.words('english')])\n",
        "df['Review_Text']"
      ],
      "metadata": {
        "colab": {
          "base_uri": "https://localhost:8080/"
        },
        "id": "h7rn53GeFCUF",
        "outputId": "7c0f7d71-73b4-4b75-8635-69a841be9e97"
      },
      "execution_count": 44,
      "outputs": [
        {
          "output_type": "execute_result",
          "data": {
            "text/plain": [
              "0       [love, using, face, shower, heats, gives, ligh...\n",
              "1       [even, better, daily, microfoliant, obsessed, ...\n",
              "2       [enjoy, product, much, look, forward, using, r...\n",
              "3       [never, tried, anything, like, love, apply, fa...\n",
              "4       [exfoliates, nicely, gives, smooth, skin, irri...\n",
              "                              ...                        \n",
              "4145                       [much, better, product, scrub]\n",
              "4146    [using, exfoliant, months, depending, conditio...\n",
              "4147                [skin, looks, better, 10, years, ago]\n",
              "4148    [product, useless, known, exfoliant, use, dail...\n",
              "4149    [product, amazing, thing, helps, dry, patches,...\n",
              "Name: Review_Text, Length: 4150, dtype: object"
            ]
          },
          "metadata": {},
          "execution_count": 44
        }
      ]
    },
    {
      "cell_type": "code",
      "source": [
        "ps=PorterStemmer()\n",
        "df['Review_Text'] = df['Review_Text'].apply(lambda x: [ps.stem(y) for y in x])\n",
        "df['Review_Text'] = df['Review_Text'].apply(lambda x: ' '.join(x))\n",
        "df['Review_Text']"
      ],
      "metadata": {
        "colab": {
          "base_uri": "https://localhost:8080/"
        },
        "id": "rMAhsYxECY6c",
        "outputId": "70e65610-0a01-4885-9487-736b5982db79"
      },
      "execution_count": 45,
      "outputs": [
        {
          "output_type": "execute_result",
          "data": {
            "text/plain": [
              "0         love use face shower heat give light scrub nice\n",
              "1       even better daili microfoli obsess skin much s...\n",
              "2       enjoy product much look forward use realli fee...\n",
              "3       never tri anyth like love appli face get littl...\n",
              "4       exfoli nice give smooth skin irrit reaction sk...\n",
              "                              ...                        \n",
              "4145                            much better product scrub\n",
              "4146    use exfoli month depend condit skin use anywhe...\n",
              "4147                         skin look better 10 year ago\n",
              "4148    product useless known exfoli use daili would g...\n",
              "4149    product amaz thing help dri patch cheek also c...\n",
              "Name: Review_Text, Length: 4150, dtype: object"
            ]
          },
          "metadata": {},
          "execution_count": 45
        }
      ]
    },
    {
      "cell_type": "code",
      "source": [
        "pip install vaderSentiment"
      ],
      "metadata": {
        "colab": {
          "base_uri": "https://localhost:8080/"
        },
        "id": "nrov2RdSCNV7",
        "outputId": "bd47b0df-d1ab-409f-b5f4-87679e5ca7d6"
      },
      "execution_count": 46,
      "outputs": [
        {
          "output_type": "stream",
          "name": "stdout",
          "text": [
            "Looking in indexes: https://pypi.org/simple, https://us-python.pkg.dev/colab-wheels/public/simple/\n",
            "Collecting vaderSentiment\n",
            "  Downloading vaderSentiment-3.3.2-py2.py3-none-any.whl (125 kB)\n",
            "\u001b[2K     \u001b[90m━━━━━━━━━━━━━━━━━━━━━━━━━━━━━━━━━━━━━━\u001b[0m \u001b[32m126.0/126.0 kB\u001b[0m \u001b[31m12.6 MB/s\u001b[0m eta \u001b[36m0:00:00\u001b[0m\n",
            "\u001b[?25hRequirement already satisfied: requests in /usr/local/lib/python3.10/dist-packages (from vaderSentiment) (2.27.1)\n",
            "Requirement already satisfied: charset-normalizer~=2.0.0 in /usr/local/lib/python3.10/dist-packages (from requests->vaderSentiment) (2.0.12)\n",
            "Requirement already satisfied: idna<4,>=2.5 in /usr/local/lib/python3.10/dist-packages (from requests->vaderSentiment) (3.4)\n",
            "Requirement already satisfied: certifi>=2017.4.17 in /usr/local/lib/python3.10/dist-packages (from requests->vaderSentiment) (2022.12.7)\n",
            "Requirement already satisfied: urllib3<1.27,>=1.21.1 in /usr/local/lib/python3.10/dist-packages (from requests->vaderSentiment) (1.26.15)\n",
            "Installing collected packages: vaderSentiment\n",
            "Successfully installed vaderSentiment-3.3.2\n"
          ]
        }
      ]
    },
    {
      "cell_type": "code",
      "source": [
        "import vaderSentiment\n",
        "from vaderSentiment.vaderSentiment import SentimentIntensityAnalyzer\n",
        "nltk.download('vader_lexicon')\n",
        "sia = SentimentIntensityAnalyzer()\n",
        "df['score']=df['Review_Text'].apply(lambda x: sia.polarity_scores(x)['compound'])\n",
        "df\n",
        "# the score ranges from -1 to 1 with -1 being the most negative , 0 neutral and 1 being postive "
      ],
      "metadata": {
        "colab": {
          "base_uri": "https://localhost:8080/",
          "height": 849
        },
        "id": "7hYiNVXewS5l",
        "outputId": "b63faf20-ec06-499d-cad6-2d100f0d182f"
      },
      "execution_count": 47,
      "outputs": [
        {
          "output_type": "stream",
          "name": "stderr",
          "text": [
            "[nltk_data] Downloading package vader_lexicon to /root/nltk_data...\n"
          ]
        },
        {
          "output_type": "execute_result",
          "data": {
            "text/plain": [
              "                                           Review_Title  \\\n",
              "0                                               Perfect   \n",
              "1                                         You need this   \n",
              "2                                            Clean skin   \n",
              "3                                      Love This Stuff!   \n",
              "4                       This exfoliates very nicely and   \n",
              "...                                                 ...   \n",
              "4145                     I would buy this product again   \n",
              "4146        Gentle exfoliant- leaves skin smooth & soft   \n",
              "4147  One of my favorite skincare products of all time.   \n",
              "4148                                            Ehhh...   \n",
              "4149                                This is the best!!!   \n",
              "\n",
              "                                            Review_Text Verified_Buyer  \\\n",
              "0       love use face shower heat give light scrub nice             No   \n",
              "1     even better daili microfoli obsess skin much s...             No   \n",
              "2     enjoy product much look forward use realli fee...             No   \n",
              "3     never tri anyth like love appli face get littl...             No   \n",
              "4     exfoli nice give smooth skin irrit reaction sk...             No   \n",
              "...                                                 ...            ...   \n",
              "4145                          much better product scrub            Yes   \n",
              "4146  use exfoli month depend condit skin use anywhe...             No   \n",
              "4147                       skin look better 10 year ago            Yes   \n",
              "4148  product useless known exfoli use daili would g...            Yes   \n",
              "4149  product amaz thing help dri patch cheek also c...            Yes   \n",
              "\n",
              "       Review_Date   Review_Location  Review_Upvotes  Review_Downvotes  \\\n",
              "0      15 days ago       Undisclosed               0                 0   \n",
              "1      27 days ago       Undisclosed               0                 0   \n",
              "2     2 months ago       Undisclosed               0                 0   \n",
              "3     2 months ago       Undisclosed               0                 0   \n",
              "4     2 months ago       Undisclosed               0                 0   \n",
              "...            ...               ...             ...               ...   \n",
              "4145   7 years ago  vernon hills, il               0                 1   \n",
              "4146   7 years ago      Humboldt, CA               1                 0   \n",
              "4147   7 years ago   Albuquerque, NM               2                 1   \n",
              "4148   7 years ago      Fayetteville               1                 1   \n",
              "4149   7 years ago       Mississippi               1                 1   \n",
              "\n",
              "                          Product        Brand Scrape_Date   score  \n",
              "0     Multi-Vitamin Thermafoliant  Dermalogica     3/27/23  0.7906  \n",
              "1     Multi-Vitamin Thermafoliant  Dermalogica     3/27/23  0.2263  \n",
              "2     Multi-Vitamin Thermafoliant  Dermalogica     3/27/23  0.8074  \n",
              "3     Multi-Vitamin Thermafoliant  Dermalogica     3/27/23  0.7839  \n",
              "4     Multi-Vitamin Thermafoliant  Dermalogica     3/27/23  0.6486  \n",
              "...                           ...          ...         ...     ...  \n",
              "4145           Daily Microfoliant  Dermalogica     3/27/23  0.4404  \n",
              "4146           Daily Microfoliant  Dermalogica     3/27/23  0.5100  \n",
              "4147           Daily Microfoliant  Dermalogica     3/27/23  0.4404  \n",
              "4148           Daily Microfoliant  Dermalogica     3/27/23  0.1027  \n",
              "4149           Daily Microfoliant  Dermalogica     3/27/23  0.6597  \n",
              "\n",
              "[4150 rows x 11 columns]"
            ],
            "text/html": [
              "\n",
              "  <div id=\"df-29a93957-26d4-41d8-9904-0076aeeae22f\">\n",
              "    <div class=\"colab-df-container\">\n",
              "      <div>\n",
              "<style scoped>\n",
              "    .dataframe tbody tr th:only-of-type {\n",
              "        vertical-align: middle;\n",
              "    }\n",
              "\n",
              "    .dataframe tbody tr th {\n",
              "        vertical-align: top;\n",
              "    }\n",
              "\n",
              "    .dataframe thead th {\n",
              "        text-align: right;\n",
              "    }\n",
              "</style>\n",
              "<table border=\"1\" class=\"dataframe\">\n",
              "  <thead>\n",
              "    <tr style=\"text-align: right;\">\n",
              "      <th></th>\n",
              "      <th>Review_Title</th>\n",
              "      <th>Review_Text</th>\n",
              "      <th>Verified_Buyer</th>\n",
              "      <th>Review_Date</th>\n",
              "      <th>Review_Location</th>\n",
              "      <th>Review_Upvotes</th>\n",
              "      <th>Review_Downvotes</th>\n",
              "      <th>Product</th>\n",
              "      <th>Brand</th>\n",
              "      <th>Scrape_Date</th>\n",
              "      <th>score</th>\n",
              "    </tr>\n",
              "  </thead>\n",
              "  <tbody>\n",
              "    <tr>\n",
              "      <th>0</th>\n",
              "      <td>Perfect</td>\n",
              "      <td>love use face shower heat give light scrub nice</td>\n",
              "      <td>No</td>\n",
              "      <td>15 days ago</td>\n",
              "      <td>Undisclosed</td>\n",
              "      <td>0</td>\n",
              "      <td>0</td>\n",
              "      <td>Multi-Vitamin Thermafoliant</td>\n",
              "      <td>Dermalogica</td>\n",
              "      <td>3/27/23</td>\n",
              "      <td>0.7906</td>\n",
              "    </tr>\n",
              "    <tr>\n",
              "      <th>1</th>\n",
              "      <td>You need this</td>\n",
              "      <td>even better daili microfoli obsess skin much s...</td>\n",
              "      <td>No</td>\n",
              "      <td>27 days ago</td>\n",
              "      <td>Undisclosed</td>\n",
              "      <td>0</td>\n",
              "      <td>0</td>\n",
              "      <td>Multi-Vitamin Thermafoliant</td>\n",
              "      <td>Dermalogica</td>\n",
              "      <td>3/27/23</td>\n",
              "      <td>0.2263</td>\n",
              "    </tr>\n",
              "    <tr>\n",
              "      <th>2</th>\n",
              "      <td>Clean skin</td>\n",
              "      <td>enjoy product much look forward use realli fee...</td>\n",
              "      <td>No</td>\n",
              "      <td>2 months ago</td>\n",
              "      <td>Undisclosed</td>\n",
              "      <td>0</td>\n",
              "      <td>0</td>\n",
              "      <td>Multi-Vitamin Thermafoliant</td>\n",
              "      <td>Dermalogica</td>\n",
              "      <td>3/27/23</td>\n",
              "      <td>0.8074</td>\n",
              "    </tr>\n",
              "    <tr>\n",
              "      <th>3</th>\n",
              "      <td>Love This Stuff!</td>\n",
              "      <td>never tri anyth like love appli face get littl...</td>\n",
              "      <td>No</td>\n",
              "      <td>2 months ago</td>\n",
              "      <td>Undisclosed</td>\n",
              "      <td>0</td>\n",
              "      <td>0</td>\n",
              "      <td>Multi-Vitamin Thermafoliant</td>\n",
              "      <td>Dermalogica</td>\n",
              "      <td>3/27/23</td>\n",
              "      <td>0.7839</td>\n",
              "    </tr>\n",
              "    <tr>\n",
              "      <th>4</th>\n",
              "      <td>This exfoliates very nicely and</td>\n",
              "      <td>exfoli nice give smooth skin irrit reaction sk...</td>\n",
              "      <td>No</td>\n",
              "      <td>2 months ago</td>\n",
              "      <td>Undisclosed</td>\n",
              "      <td>0</td>\n",
              "      <td>0</td>\n",
              "      <td>Multi-Vitamin Thermafoliant</td>\n",
              "      <td>Dermalogica</td>\n",
              "      <td>3/27/23</td>\n",
              "      <td>0.6486</td>\n",
              "    </tr>\n",
              "    <tr>\n",
              "      <th>...</th>\n",
              "      <td>...</td>\n",
              "      <td>...</td>\n",
              "      <td>...</td>\n",
              "      <td>...</td>\n",
              "      <td>...</td>\n",
              "      <td>...</td>\n",
              "      <td>...</td>\n",
              "      <td>...</td>\n",
              "      <td>...</td>\n",
              "      <td>...</td>\n",
              "      <td>...</td>\n",
              "    </tr>\n",
              "    <tr>\n",
              "      <th>4145</th>\n",
              "      <td>I would buy this product again</td>\n",
              "      <td>much better product scrub</td>\n",
              "      <td>Yes</td>\n",
              "      <td>7 years ago</td>\n",
              "      <td>vernon hills, il</td>\n",
              "      <td>0</td>\n",
              "      <td>1</td>\n",
              "      <td>Daily Microfoliant</td>\n",
              "      <td>Dermalogica</td>\n",
              "      <td>3/27/23</td>\n",
              "      <td>0.4404</td>\n",
              "    </tr>\n",
              "    <tr>\n",
              "      <th>4146</th>\n",
              "      <td>Gentle exfoliant- leaves skin smooth &amp; soft</td>\n",
              "      <td>use exfoli month depend condit skin use anywhe...</td>\n",
              "      <td>No</td>\n",
              "      <td>7 years ago</td>\n",
              "      <td>Humboldt, CA</td>\n",
              "      <td>1</td>\n",
              "      <td>0</td>\n",
              "      <td>Daily Microfoliant</td>\n",
              "      <td>Dermalogica</td>\n",
              "      <td>3/27/23</td>\n",
              "      <td>0.5100</td>\n",
              "    </tr>\n",
              "    <tr>\n",
              "      <th>4147</th>\n",
              "      <td>One of my favorite skincare products of all time.</td>\n",
              "      <td>skin look better 10 year ago</td>\n",
              "      <td>Yes</td>\n",
              "      <td>7 years ago</td>\n",
              "      <td>Albuquerque, NM</td>\n",
              "      <td>2</td>\n",
              "      <td>1</td>\n",
              "      <td>Daily Microfoliant</td>\n",
              "      <td>Dermalogica</td>\n",
              "      <td>3/27/23</td>\n",
              "      <td>0.4404</td>\n",
              "    </tr>\n",
              "    <tr>\n",
              "      <th>4148</th>\n",
              "      <td>Ehhh...</td>\n",
              "      <td>product useless known exfoli use daili would g...</td>\n",
              "      <td>Yes</td>\n",
              "      <td>7 years ago</td>\n",
              "      <td>Fayetteville</td>\n",
              "      <td>1</td>\n",
              "      <td>1</td>\n",
              "      <td>Daily Microfoliant</td>\n",
              "      <td>Dermalogica</td>\n",
              "      <td>3/27/23</td>\n",
              "      <td>0.1027</td>\n",
              "    </tr>\n",
              "    <tr>\n",
              "      <th>4149</th>\n",
              "      <td>This is the best!!!</td>\n",
              "      <td>product amaz thing help dri patch cheek also c...</td>\n",
              "      <td>Yes</td>\n",
              "      <td>7 years ago</td>\n",
              "      <td>Mississippi</td>\n",
              "      <td>1</td>\n",
              "      <td>1</td>\n",
              "      <td>Daily Microfoliant</td>\n",
              "      <td>Dermalogica</td>\n",
              "      <td>3/27/23</td>\n",
              "      <td>0.6597</td>\n",
              "    </tr>\n",
              "  </tbody>\n",
              "</table>\n",
              "<p>4150 rows × 11 columns</p>\n",
              "</div>\n",
              "      <button class=\"colab-df-convert\" onclick=\"convertToInteractive('df-29a93957-26d4-41d8-9904-0076aeeae22f')\"\n",
              "              title=\"Convert this dataframe to an interactive table.\"\n",
              "              style=\"display:none;\">\n",
              "        \n",
              "  <svg xmlns=\"http://www.w3.org/2000/svg\" height=\"24px\"viewBox=\"0 0 24 24\"\n",
              "       width=\"24px\">\n",
              "    <path d=\"M0 0h24v24H0V0z\" fill=\"none\"/>\n",
              "    <path d=\"M18.56 5.44l.94 2.06.94-2.06 2.06-.94-2.06-.94-.94-2.06-.94 2.06-2.06.94zm-11 1L8.5 8.5l.94-2.06 2.06-.94-2.06-.94L8.5 2.5l-.94 2.06-2.06.94zm10 10l.94 2.06.94-2.06 2.06-.94-2.06-.94-.94-2.06-.94 2.06-2.06.94z\"/><path d=\"M17.41 7.96l-1.37-1.37c-.4-.4-.92-.59-1.43-.59-.52 0-1.04.2-1.43.59L10.3 9.45l-7.72 7.72c-.78.78-.78 2.05 0 2.83L4 21.41c.39.39.9.59 1.41.59.51 0 1.02-.2 1.41-.59l7.78-7.78 2.81-2.81c.8-.78.8-2.07 0-2.86zM5.41 20L4 18.59l7.72-7.72 1.47 1.35L5.41 20z\"/>\n",
              "  </svg>\n",
              "      </button>\n",
              "      \n",
              "  <style>\n",
              "    .colab-df-container {\n",
              "      display:flex;\n",
              "      flex-wrap:wrap;\n",
              "      gap: 12px;\n",
              "    }\n",
              "\n",
              "    .colab-df-convert {\n",
              "      background-color: #E8F0FE;\n",
              "      border: none;\n",
              "      border-radius: 50%;\n",
              "      cursor: pointer;\n",
              "      display: none;\n",
              "      fill: #1967D2;\n",
              "      height: 32px;\n",
              "      padding: 0 0 0 0;\n",
              "      width: 32px;\n",
              "    }\n",
              "\n",
              "    .colab-df-convert:hover {\n",
              "      background-color: #E2EBFA;\n",
              "      box-shadow: 0px 1px 2px rgba(60, 64, 67, 0.3), 0px 1px 3px 1px rgba(60, 64, 67, 0.15);\n",
              "      fill: #174EA6;\n",
              "    }\n",
              "\n",
              "    [theme=dark] .colab-df-convert {\n",
              "      background-color: #3B4455;\n",
              "      fill: #D2E3FC;\n",
              "    }\n",
              "\n",
              "    [theme=dark] .colab-df-convert:hover {\n",
              "      background-color: #434B5C;\n",
              "      box-shadow: 0px 1px 3px 1px rgba(0, 0, 0, 0.15);\n",
              "      filter: drop-shadow(0px 1px 2px rgba(0, 0, 0, 0.3));\n",
              "      fill: #FFFFFF;\n",
              "    }\n",
              "  </style>\n",
              "\n",
              "      <script>\n",
              "        const buttonEl =\n",
              "          document.querySelector('#df-29a93957-26d4-41d8-9904-0076aeeae22f button.colab-df-convert');\n",
              "        buttonEl.style.display =\n",
              "          google.colab.kernel.accessAllowed ? 'block' : 'none';\n",
              "\n",
              "        async function convertToInteractive(key) {\n",
              "          const element = document.querySelector('#df-29a93957-26d4-41d8-9904-0076aeeae22f');\n",
              "          const dataTable =\n",
              "            await google.colab.kernel.invokeFunction('convertToInteractive',\n",
              "                                                     [key], {});\n",
              "          if (!dataTable) return;\n",
              "\n",
              "          const docLinkHtml = 'Like what you see? Visit the ' +\n",
              "            '<a target=\"_blank\" href=https://colab.research.google.com/notebooks/data_table.ipynb>data table notebook</a>'\n",
              "            + ' to learn more about interactive tables.';\n",
              "          element.innerHTML = '';\n",
              "          dataTable['output_type'] = 'display_data';\n",
              "          await google.colab.output.renderOutput(dataTable, element);\n",
              "          const docLink = document.createElement('div');\n",
              "          docLink.innerHTML = docLinkHtml;\n",
              "          element.appendChild(docLink);\n",
              "        }\n",
              "      </script>\n",
              "    </div>\n",
              "  </div>\n",
              "  "
            ]
          },
          "metadata": {},
          "execution_count": 47
        }
      ]
    },
    {
      "cell_type": "code",
      "source": [
        "df['sentiment'] = df['score'].apply(lambda x: 1 if x>0 else 0)\n",
        "df"
      ],
      "metadata": {
        "colab": {
          "base_uri": "https://localhost:8080/",
          "height": 1000
        },
        "id": "n9Y0Pto52WBW",
        "outputId": "81ce724e-5dac-49e2-acfe-339382e6d27f"
      },
      "execution_count": 48,
      "outputs": [
        {
          "output_type": "execute_result",
          "data": {
            "text/plain": [
              "                                           Review_Title  \\\n",
              "0                                               Perfect   \n",
              "1                                         You need this   \n",
              "2                                            Clean skin   \n",
              "3                                      Love This Stuff!   \n",
              "4                       This exfoliates very nicely and   \n",
              "...                                                 ...   \n",
              "4145                     I would buy this product again   \n",
              "4146        Gentle exfoliant- leaves skin smooth & soft   \n",
              "4147  One of my favorite skincare products of all time.   \n",
              "4148                                            Ehhh...   \n",
              "4149                                This is the best!!!   \n",
              "\n",
              "                                            Review_Text Verified_Buyer  \\\n",
              "0       love use face shower heat give light scrub nice             No   \n",
              "1     even better daili microfoli obsess skin much s...             No   \n",
              "2     enjoy product much look forward use realli fee...             No   \n",
              "3     never tri anyth like love appli face get littl...             No   \n",
              "4     exfoli nice give smooth skin irrit reaction sk...             No   \n",
              "...                                                 ...            ...   \n",
              "4145                          much better product scrub            Yes   \n",
              "4146  use exfoli month depend condit skin use anywhe...             No   \n",
              "4147                       skin look better 10 year ago            Yes   \n",
              "4148  product useless known exfoli use daili would g...            Yes   \n",
              "4149  product amaz thing help dri patch cheek also c...            Yes   \n",
              "\n",
              "       Review_Date   Review_Location  Review_Upvotes  Review_Downvotes  \\\n",
              "0      15 days ago       Undisclosed               0                 0   \n",
              "1      27 days ago       Undisclosed               0                 0   \n",
              "2     2 months ago       Undisclosed               0                 0   \n",
              "3     2 months ago       Undisclosed               0                 0   \n",
              "4     2 months ago       Undisclosed               0                 0   \n",
              "...            ...               ...             ...               ...   \n",
              "4145   7 years ago  vernon hills, il               0                 1   \n",
              "4146   7 years ago      Humboldt, CA               1                 0   \n",
              "4147   7 years ago   Albuquerque, NM               2                 1   \n",
              "4148   7 years ago      Fayetteville               1                 1   \n",
              "4149   7 years ago       Mississippi               1                 1   \n",
              "\n",
              "                          Product        Brand Scrape_Date   score  sentiment  \n",
              "0     Multi-Vitamin Thermafoliant  Dermalogica     3/27/23  0.7906          1  \n",
              "1     Multi-Vitamin Thermafoliant  Dermalogica     3/27/23  0.2263          1  \n",
              "2     Multi-Vitamin Thermafoliant  Dermalogica     3/27/23  0.8074          1  \n",
              "3     Multi-Vitamin Thermafoliant  Dermalogica     3/27/23  0.7839          1  \n",
              "4     Multi-Vitamin Thermafoliant  Dermalogica     3/27/23  0.6486          1  \n",
              "...                           ...          ...         ...     ...        ...  \n",
              "4145           Daily Microfoliant  Dermalogica     3/27/23  0.4404          1  \n",
              "4146           Daily Microfoliant  Dermalogica     3/27/23  0.5100          1  \n",
              "4147           Daily Microfoliant  Dermalogica     3/27/23  0.4404          1  \n",
              "4148           Daily Microfoliant  Dermalogica     3/27/23  0.1027          1  \n",
              "4149           Daily Microfoliant  Dermalogica     3/27/23  0.6597          1  \n",
              "\n",
              "[4150 rows x 12 columns]"
            ],
            "text/html": [
              "\n",
              "  <div id=\"df-38c6cf08-f4fd-4202-94a0-df888ff8e9eb\">\n",
              "    <div class=\"colab-df-container\">\n",
              "      <div>\n",
              "<style scoped>\n",
              "    .dataframe tbody tr th:only-of-type {\n",
              "        vertical-align: middle;\n",
              "    }\n",
              "\n",
              "    .dataframe tbody tr th {\n",
              "        vertical-align: top;\n",
              "    }\n",
              "\n",
              "    .dataframe thead th {\n",
              "        text-align: right;\n",
              "    }\n",
              "</style>\n",
              "<table border=\"1\" class=\"dataframe\">\n",
              "  <thead>\n",
              "    <tr style=\"text-align: right;\">\n",
              "      <th></th>\n",
              "      <th>Review_Title</th>\n",
              "      <th>Review_Text</th>\n",
              "      <th>Verified_Buyer</th>\n",
              "      <th>Review_Date</th>\n",
              "      <th>Review_Location</th>\n",
              "      <th>Review_Upvotes</th>\n",
              "      <th>Review_Downvotes</th>\n",
              "      <th>Product</th>\n",
              "      <th>Brand</th>\n",
              "      <th>Scrape_Date</th>\n",
              "      <th>score</th>\n",
              "      <th>sentiment</th>\n",
              "    </tr>\n",
              "  </thead>\n",
              "  <tbody>\n",
              "    <tr>\n",
              "      <th>0</th>\n",
              "      <td>Perfect</td>\n",
              "      <td>love use face shower heat give light scrub nice</td>\n",
              "      <td>No</td>\n",
              "      <td>15 days ago</td>\n",
              "      <td>Undisclosed</td>\n",
              "      <td>0</td>\n",
              "      <td>0</td>\n",
              "      <td>Multi-Vitamin Thermafoliant</td>\n",
              "      <td>Dermalogica</td>\n",
              "      <td>3/27/23</td>\n",
              "      <td>0.7906</td>\n",
              "      <td>1</td>\n",
              "    </tr>\n",
              "    <tr>\n",
              "      <th>1</th>\n",
              "      <td>You need this</td>\n",
              "      <td>even better daili microfoli obsess skin much s...</td>\n",
              "      <td>No</td>\n",
              "      <td>27 days ago</td>\n",
              "      <td>Undisclosed</td>\n",
              "      <td>0</td>\n",
              "      <td>0</td>\n",
              "      <td>Multi-Vitamin Thermafoliant</td>\n",
              "      <td>Dermalogica</td>\n",
              "      <td>3/27/23</td>\n",
              "      <td>0.2263</td>\n",
              "      <td>1</td>\n",
              "    </tr>\n",
              "    <tr>\n",
              "      <th>2</th>\n",
              "      <td>Clean skin</td>\n",
              "      <td>enjoy product much look forward use realli fee...</td>\n",
              "      <td>No</td>\n",
              "      <td>2 months ago</td>\n",
              "      <td>Undisclosed</td>\n",
              "      <td>0</td>\n",
              "      <td>0</td>\n",
              "      <td>Multi-Vitamin Thermafoliant</td>\n",
              "      <td>Dermalogica</td>\n",
              "      <td>3/27/23</td>\n",
              "      <td>0.8074</td>\n",
              "      <td>1</td>\n",
              "    </tr>\n",
              "    <tr>\n",
              "      <th>3</th>\n",
              "      <td>Love This Stuff!</td>\n",
              "      <td>never tri anyth like love appli face get littl...</td>\n",
              "      <td>No</td>\n",
              "      <td>2 months ago</td>\n",
              "      <td>Undisclosed</td>\n",
              "      <td>0</td>\n",
              "      <td>0</td>\n",
              "      <td>Multi-Vitamin Thermafoliant</td>\n",
              "      <td>Dermalogica</td>\n",
              "      <td>3/27/23</td>\n",
              "      <td>0.7839</td>\n",
              "      <td>1</td>\n",
              "    </tr>\n",
              "    <tr>\n",
              "      <th>4</th>\n",
              "      <td>This exfoliates very nicely and</td>\n",
              "      <td>exfoli nice give smooth skin irrit reaction sk...</td>\n",
              "      <td>No</td>\n",
              "      <td>2 months ago</td>\n",
              "      <td>Undisclosed</td>\n",
              "      <td>0</td>\n",
              "      <td>0</td>\n",
              "      <td>Multi-Vitamin Thermafoliant</td>\n",
              "      <td>Dermalogica</td>\n",
              "      <td>3/27/23</td>\n",
              "      <td>0.6486</td>\n",
              "      <td>1</td>\n",
              "    </tr>\n",
              "    <tr>\n",
              "      <th>...</th>\n",
              "      <td>...</td>\n",
              "      <td>...</td>\n",
              "      <td>...</td>\n",
              "      <td>...</td>\n",
              "      <td>...</td>\n",
              "      <td>...</td>\n",
              "      <td>...</td>\n",
              "      <td>...</td>\n",
              "      <td>...</td>\n",
              "      <td>...</td>\n",
              "      <td>...</td>\n",
              "      <td>...</td>\n",
              "    </tr>\n",
              "    <tr>\n",
              "      <th>4145</th>\n",
              "      <td>I would buy this product again</td>\n",
              "      <td>much better product scrub</td>\n",
              "      <td>Yes</td>\n",
              "      <td>7 years ago</td>\n",
              "      <td>vernon hills, il</td>\n",
              "      <td>0</td>\n",
              "      <td>1</td>\n",
              "      <td>Daily Microfoliant</td>\n",
              "      <td>Dermalogica</td>\n",
              "      <td>3/27/23</td>\n",
              "      <td>0.4404</td>\n",
              "      <td>1</td>\n",
              "    </tr>\n",
              "    <tr>\n",
              "      <th>4146</th>\n",
              "      <td>Gentle exfoliant- leaves skin smooth &amp; soft</td>\n",
              "      <td>use exfoli month depend condit skin use anywhe...</td>\n",
              "      <td>No</td>\n",
              "      <td>7 years ago</td>\n",
              "      <td>Humboldt, CA</td>\n",
              "      <td>1</td>\n",
              "      <td>0</td>\n",
              "      <td>Daily Microfoliant</td>\n",
              "      <td>Dermalogica</td>\n",
              "      <td>3/27/23</td>\n",
              "      <td>0.5100</td>\n",
              "      <td>1</td>\n",
              "    </tr>\n",
              "    <tr>\n",
              "      <th>4147</th>\n",
              "      <td>One of my favorite skincare products of all time.</td>\n",
              "      <td>skin look better 10 year ago</td>\n",
              "      <td>Yes</td>\n",
              "      <td>7 years ago</td>\n",
              "      <td>Albuquerque, NM</td>\n",
              "      <td>2</td>\n",
              "      <td>1</td>\n",
              "      <td>Daily Microfoliant</td>\n",
              "      <td>Dermalogica</td>\n",
              "      <td>3/27/23</td>\n",
              "      <td>0.4404</td>\n",
              "      <td>1</td>\n",
              "    </tr>\n",
              "    <tr>\n",
              "      <th>4148</th>\n",
              "      <td>Ehhh...</td>\n",
              "      <td>product useless known exfoli use daili would g...</td>\n",
              "      <td>Yes</td>\n",
              "      <td>7 years ago</td>\n",
              "      <td>Fayetteville</td>\n",
              "      <td>1</td>\n",
              "      <td>1</td>\n",
              "      <td>Daily Microfoliant</td>\n",
              "      <td>Dermalogica</td>\n",
              "      <td>3/27/23</td>\n",
              "      <td>0.1027</td>\n",
              "      <td>1</td>\n",
              "    </tr>\n",
              "    <tr>\n",
              "      <th>4149</th>\n",
              "      <td>This is the best!!!</td>\n",
              "      <td>product amaz thing help dri patch cheek also c...</td>\n",
              "      <td>Yes</td>\n",
              "      <td>7 years ago</td>\n",
              "      <td>Mississippi</td>\n",
              "      <td>1</td>\n",
              "      <td>1</td>\n",
              "      <td>Daily Microfoliant</td>\n",
              "      <td>Dermalogica</td>\n",
              "      <td>3/27/23</td>\n",
              "      <td>0.6597</td>\n",
              "      <td>1</td>\n",
              "    </tr>\n",
              "  </tbody>\n",
              "</table>\n",
              "<p>4150 rows × 12 columns</p>\n",
              "</div>\n",
              "      <button class=\"colab-df-convert\" onclick=\"convertToInteractive('df-38c6cf08-f4fd-4202-94a0-df888ff8e9eb')\"\n",
              "              title=\"Convert this dataframe to an interactive table.\"\n",
              "              style=\"display:none;\">\n",
              "        \n",
              "  <svg xmlns=\"http://www.w3.org/2000/svg\" height=\"24px\"viewBox=\"0 0 24 24\"\n",
              "       width=\"24px\">\n",
              "    <path d=\"M0 0h24v24H0V0z\" fill=\"none\"/>\n",
              "    <path d=\"M18.56 5.44l.94 2.06.94-2.06 2.06-.94-2.06-.94-.94-2.06-.94 2.06-2.06.94zm-11 1L8.5 8.5l.94-2.06 2.06-.94-2.06-.94L8.5 2.5l-.94 2.06-2.06.94zm10 10l.94 2.06.94-2.06 2.06-.94-2.06-.94-.94-2.06-.94 2.06-2.06.94z\"/><path d=\"M17.41 7.96l-1.37-1.37c-.4-.4-.92-.59-1.43-.59-.52 0-1.04.2-1.43.59L10.3 9.45l-7.72 7.72c-.78.78-.78 2.05 0 2.83L4 21.41c.39.39.9.59 1.41.59.51 0 1.02-.2 1.41-.59l7.78-7.78 2.81-2.81c.8-.78.8-2.07 0-2.86zM5.41 20L4 18.59l7.72-7.72 1.47 1.35L5.41 20z\"/>\n",
              "  </svg>\n",
              "      </button>\n",
              "      \n",
              "  <style>\n",
              "    .colab-df-container {\n",
              "      display:flex;\n",
              "      flex-wrap:wrap;\n",
              "      gap: 12px;\n",
              "    }\n",
              "\n",
              "    .colab-df-convert {\n",
              "      background-color: #E8F0FE;\n",
              "      border: none;\n",
              "      border-radius: 50%;\n",
              "      cursor: pointer;\n",
              "      display: none;\n",
              "      fill: #1967D2;\n",
              "      height: 32px;\n",
              "      padding: 0 0 0 0;\n",
              "      width: 32px;\n",
              "    }\n",
              "\n",
              "    .colab-df-convert:hover {\n",
              "      background-color: #E2EBFA;\n",
              "      box-shadow: 0px 1px 2px rgba(60, 64, 67, 0.3), 0px 1px 3px 1px rgba(60, 64, 67, 0.15);\n",
              "      fill: #174EA6;\n",
              "    }\n",
              "\n",
              "    [theme=dark] .colab-df-convert {\n",
              "      background-color: #3B4455;\n",
              "      fill: #D2E3FC;\n",
              "    }\n",
              "\n",
              "    [theme=dark] .colab-df-convert:hover {\n",
              "      background-color: #434B5C;\n",
              "      box-shadow: 0px 1px 3px 1px rgba(0, 0, 0, 0.15);\n",
              "      filter: drop-shadow(0px 1px 2px rgba(0, 0, 0, 0.3));\n",
              "      fill: #FFFFFF;\n",
              "    }\n",
              "  </style>\n",
              "\n",
              "      <script>\n",
              "        const buttonEl =\n",
              "          document.querySelector('#df-38c6cf08-f4fd-4202-94a0-df888ff8e9eb button.colab-df-convert');\n",
              "        buttonEl.style.display =\n",
              "          google.colab.kernel.accessAllowed ? 'block' : 'none';\n",
              "\n",
              "        async function convertToInteractive(key) {\n",
              "          const element = document.querySelector('#df-38c6cf08-f4fd-4202-94a0-df888ff8e9eb');\n",
              "          const dataTable =\n",
              "            await google.colab.kernel.invokeFunction('convertToInteractive',\n",
              "                                                     [key], {});\n",
              "          if (!dataTable) return;\n",
              "\n",
              "          const docLinkHtml = 'Like what you see? Visit the ' +\n",
              "            '<a target=\"_blank\" href=https://colab.research.google.com/notebooks/data_table.ipynb>data table notebook</a>'\n",
              "            + ' to learn more about interactive tables.';\n",
              "          element.innerHTML = '';\n",
              "          dataTable['output_type'] = 'display_data';\n",
              "          await google.colab.output.renderOutput(dataTable, element);\n",
              "          const docLink = document.createElement('div');\n",
              "          docLink.innerHTML = docLinkHtml;\n",
              "          element.appendChild(docLink);\n",
              "        }\n",
              "      </script>\n",
              "    </div>\n",
              "  </div>\n",
              "  "
            ]
          },
          "metadata": {},
          "execution_count": 48
        }
      ]
    },
    {
      "cell_type": "code",
      "source": [
        "df['sentiment'].value_counts()"
      ],
      "metadata": {
        "colab": {
          "base_uri": "https://localhost:8080/"
        },
        "id": "Ob-D8cfX2yeH",
        "outputId": "73b9992f-cde2-42a2-f82a-43ff1d44abaf"
      },
      "execution_count": 49,
      "outputs": [
        {
          "output_type": "execute_result",
          "data": {
            "text/plain": [
              "1    3506\n",
              "0     644\n",
              "Name: sentiment, dtype: int64"
            ]
          },
          "metadata": {},
          "execution_count": 49
        }
      ]
    },
    {
      "cell_type": "code",
      "source": [
        "df['sentiment'].value_counts().plot.pie(figsize=(6,6) , title='count of sentiment' ,labels=['+ve','-ve'],autopct='%1.1f%%')\n",
        "labels=[\"Positive\",\"Negative\"]\n",
        "plt.legend(labels,loc=2)"
      ],
      "metadata": {
        "colab": {
          "base_uri": "https://localhost:8080/",
          "height": 538
        },
        "id": "UDxOUJKM4weI",
        "outputId": "55e92c68-d1ca-49ea-859d-435405a199f1"
      },
      "execution_count": 50,
      "outputs": [
        {
          "output_type": "execute_result",
          "data": {
            "text/plain": [
              "<matplotlib.legend.Legend at 0x7f0f0ff55240>"
            ]
          },
          "metadata": {},
          "execution_count": 50
        },
        {
          "output_type": "display_data",
          "data": {
            "text/plain": [
              "<Figure size 600x600 with 1 Axes>"
            ],
            "image/png": "[encoded data removed]"
          },
          "metadata": {}
        }
      ]
    },
    {
      "cell_type": "markdown",
      "source": [
        "#Bag of Words"
      ],
      "metadata": {
        "id": "3L7WfT7o7GqQ"
      }
    },
    {
      "cell_type": "code",
      "source": [
        "cv=CountVectorizer()\n",
        "x=cv.fit_transform(df['Review_Text'])"
      ],
      "metadata": {
        "id": "cCDVsiPu7J4X"
      },
      "execution_count": 51,
      "outputs": []
    },
    {
      "cell_type": "code",
      "source": [
        "X=x.toarray()\n",
        "y=df['sentiment']"
      ],
      "metadata": {
        "id": "c6kycIWi7eHQ"
      },
      "execution_count": 52,
      "outputs": []
    },
    {
      "cell_type": "markdown",
      "source": [
        "#Train_Test_Split"
      ],
      "metadata": {
        "id": "xjvw3h07iLhz"
      }
    },
    {
      "cell_type": "code",
      "source": [
        "x_train,x_test,y_train,y_test=train_test_split(X,y,test_size=0.30,random_state=42)"
      ],
      "metadata": {
        "id": "QKBM8eTn7_6_"
      },
      "execution_count": 53,
      "outputs": []
    },
    {
      "cell_type": "markdown",
      "source": [
        "#SMOTE"
      ],
      "metadata": {
        "id": "lnDjpGo79d8_"
      }
    },
    {
      "cell_type": "code",
      "source": [
        "from imblearn.over_sampling import SMOTE\n",
        "sm=SMOTE(random_state=42)\n",
        "x_train_sm,y_train_sm=sm.fit_resample(x_train,y_train)"
      ],
      "metadata": {
        "id": "89ykdYo59g83"
      },
      "execution_count": 54,
      "outputs": []
    },
    {
      "cell_type": "markdown",
      "source": [
        "#Naive Bayes"
      ],
      "metadata": {
        "id": "XbZWoM_siSND"
      }
    },
    {
      "cell_type": "code",
      "source": [
        "clf=MultinomialNB()\n",
        "clf.fit(x_train,y_train)\n",
        "y_pred=clf.predict(x_test)"
      ],
      "metadata": {
        "id": "goK9Lf9Z-YGK"
      },
      "execution_count": 55,
      "outputs": []
    },
    {
      "cell_type": "markdown",
      "source": [
        "#Metrics"
      ],
      "metadata": {
        "id": "L-X9kqH1BEhY"
      }
    },
    {
      "cell_type": "code",
      "source": [
        "from sklearn.metrics import accuracy_score\n",
        "accuracy=accuracy_score(y_test,y_pred)\n",
        "print('Accuracy score is ',accuracy)\n",
        "\n",
        "cr=classification_report(y_test,y_pred)\n",
        "print(cr)"
      ],
      "metadata": {
        "colab": {
          "base_uri": "https://localhost:8080/"
        },
        "id": "olttQKF-BGuo",
        "outputId": "b121095a-3716-4950-a15e-b3f42419a2bd"
      },
      "execution_count": 63,
      "outputs": [
        {
          "output_type": "stream",
          "name": "stdout",
          "text": [
            "Accuracy score is  0.8618473895582329\n",
            "              precision    recall  f1-score   support\n",
            "\n",
            "           0       0.75      0.20      0.32       199\n",
            "           1       0.87      0.99      0.92      1046\n",
            "\n",
            "    accuracy                           0.86      1245\n",
            "   macro avg       0.81      0.59      0.62      1245\n",
            "weighted avg       0.85      0.86      0.83      1245\n",
            "\n"
          ]
        }
      ]
    },
    {
      "cell_type": "code",
      "source": [
        "from sklearn.metrics import confusion_matrix\n",
        "cm = confusion_matrix(y_test,y_pred)\n",
        "print(cm)"
      ],
      "metadata": {
        "colab": {
          "base_uri": "https://localhost:8080/"
        },
        "id": "tkUcEmRtBo9x",
        "outputId": "5de530d7-c8b5-4e7e-ab3a-fceb47be401a"
      },
      "execution_count": 64,
      "outputs": [
        {
          "output_type": "stream",
          "name": "stdout",
          "text": [
            "[[  40  159]\n",
            " [  13 1033]]\n"
          ]
        }
      ]
    },
    {
      "cell_type": "code",
      "source": [
        "plt.matshow(cm,cmap=plt.cm.Purples)\n",
        "plt.colorbar()\n",
        "plt.ylabel('Actual Values',fontsize=15)\n",
        "plt.xlabel('Predicted Values',fontsize=15)\n",
        "print(cm)"
      ],
      "metadata": {
        "colab": {
          "base_uri": "https://localhost:8080/",
          "height": 444
        },
        "id": "2rGYsd3ED2SD",
        "outputId": "8385225f-bb53-4a3d-ad37-14bc8aa52b18"
      },
      "execution_count": 65,
      "outputs": [
        {
          "output_type": "stream",
          "name": "stdout",
          "text": [
            "[[  40  159]\n",
            " [  13 1033]]\n"
          ]
        },
        {
          "output_type": "display_data",
          "data": {
            "text/plain": [
              "<Figure size 480x480 with 2 Axes>"
            ],
            "image/png": "[encoded data removed]"
          },
          "metadata": {}
        }
      ]
    }
  ]
}